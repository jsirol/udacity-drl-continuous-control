{
 "cells": [
  {
   "cell_type": "markdown",
   "metadata": {},
   "source": [
    "# Continuous Control - Report"
   ]
  },
  {
   "cell_type": "markdown",
   "metadata": {},
   "source": [
    "## 1. Implementation Details\n",
    "The implementation consists of files agent.py, model.py and ddpg_trainer.py found under the ddpg/ folder. The code is organized as follows:\n",
    "\n",
    "`agent.py` contains code for the agent.\n",
    "\n",
    "`model.py` contains the neural network code that is used by the agent.\n",
    "\n",
    "`ddpg_trainer.py` contains code that is used to train the agent.\n",
    "For information about the project and the environment can be found in the file `README.md`."
   ]
  },
  {
   "cell_type": "markdown",
   "metadata": {},
   "source": [
    "## 2. Algorithm\n",
    "A code template implementing the Deep Deterministic Policy Gradient-algorithm from the Udacity course Deep Reinforcement Learning was used as the starting point of this project. This work extends the template by \n",
    "\n",
    "1. Collecting experiences from multiple agents. \n",
    "2. Using different neural networks for the Actor and Critic, including Batch Normalization.\n",
    "\n",
    "I also initialized the local and target networks using the same weights (one set of weights for Actor networks and one for the Critic networks). This helped with the initial convergence on my test runs which still didn't stabilize well enough.\n",
    "\n",
    "Finally, I turned off the Ornstein-Uhlenbeck noise for the actions, as it apparently made the algorithm unstable. I suspect the problem setup is so simple that the noise is not needed for effective exploration, but it only hinders performance after the networks have converged close to optimal weights. After removing the noise, the algorithm became stable and converged faster than during my test runs.\n",
    "\n",
    "### Learning process\n",
    "The algorithm uses two neural networks, the Actor that learns the optimal policy, and the Critic that learns the Q-function. The algorithm implements this as 4 neural networks, by having a local and a target network for both the Actor and Critic to stabilize learning.\n",
    "\n",
    "The networks are training using collected (s,a,r,s') experience tuples from 20 agents, that are stored into a replay buffer. At regular intervals, we train the model by sampling tuples from the replay buffer and applying gradient based updates to the network weights. For more details see the further reading-section.\n",
    "\n",
    "### Agent hyperparameters\n",
    "| parameter                                     | value |\n",
    "|-----------------------------------------------|-------|\n",
    "| experience replay buffer size                 | 1e5   |\n",
    "| minibatch size                                | 128   |\n",
    "| gamma (discount factor)                       | 0.999 |\n",
    "| tau (for soft update of target networks)      | 1e-3  |\n",
    "| learning rate Actor                           | 2e-4  |\n",
    "| learning rate Critic                          | 2e-4  |\n",
    "| L2 weight decay (for optimizers)              | 0     |\n",
    "| update_every (steps between networks updates) | 1     |\n",
    "| update_times (number of consecutive/step)     | 1     |\n",
    "\n",
    "### Neural network architecture\n",
    "\n",
    "#### Actor\n",
    "We used a neural network with 2 fully connected layers with ReLU activation and 128 hidden units. For the output layer we used tanh activation to scale the outputs to range (-1,1). We also applied Batch Normalization to the output of the first hidden layer.\n",
    "\n",
    "#### Critic\n",
    "Here we use again a neural network with 2 fully connected layers with ReLU activation and 128 hidden units. The first hidden layer takes the states as inputs. After applying non-linearity after after the 1st hidden layer, we concatenate the actions to the layer that feeds into the 2nd hidden layer. We applied Batch Normalization to the output of the first hidden layer (before we concatenate the actions, refer to the code in `model.py`).\n",
    "\n",
    "We don't use activation function for the output layer as we are learning a Q-function.\n",
    "\n",
    "\n",
    "### Further reading\n",
    "[Continuous control with deep reinforcement learning (original paper on DDPG)](https://arxiv.org/pdf/1509.02971.pdf)"
   ]
  },
  {
   "cell_type": "markdown",
   "metadata": {},
   "source": [
    "## 3. Training\n",
    "Below we train the model for 400 iterations. We are forcing CPU computation in our implementation as we saw it trained faster for these small network architectures. If you want to run on a GPU instead, uncomment the line `torch.device(\"cuda:0\" if torch.cuda.is_available() else \"cpu\")` in `agent.py`. \n",
    "\n",
    "If you want to watch a trained agent play, skip to part 4."
   ]
  },
  {
   "cell_type": "code",
   "execution_count": 1,
   "metadata": {},
   "outputs": [],
   "source": [
    "from unityagents import UnityEnvironment\n",
    "import numpy as np\n",
    "import torch\n",
    "import matplotlib.pyplot as plt\n",
    "%matplotlib inline\n",
    "\n",
    "from ddpg.agent import Agent\n",
    "from ddpg.ddpg_trainer import train_ddpg"
   ]
  },
  {
   "cell_type": "code",
   "execution_count": 2,
   "metadata": {},
   "outputs": [
    {
     "name": "stderr",
     "output_type": "stream",
     "text": [
      "INFO:unityagents:\n",
      "'Academy' started successfully!\n",
      "Unity Academy name: Academy\n",
      "        Number of Brains: 1\n",
      "        Number of External Brains : 1\n",
      "        Lesson number : 0\n",
      "        Reset Parameters :\n",
      "\t\tgoal_speed -> 1.0\n",
      "\t\tgoal_size -> 5.0\n",
      "Unity brain name: ReacherBrain\n",
      "        Number of Visual Observations (per agent): 0\n",
      "        Vector Observation space type: continuous\n",
      "        Vector Observation space size (per agent): 33\n",
      "        Number of stacked Vector Observation: 1\n",
      "        Vector Action space type: continuous\n",
      "        Vector Action space size (per agent): 4\n",
      "        Vector Action descriptions: , , , \n"
     ]
    }
   ],
   "source": [
    "# get handle to the environment\n",
    "env = UnityEnvironment(file_name=\"Reacher_Windows_x86_64/Reacher.exe\", no_graphics=True)\n",
    "\n",
    "# environment metadata\n",
    "state_size = 33\n",
    "action_size = 4\n",
    "\n",
    "# create the agent\n",
    "agent = Agent(state_size, action_size, random_seed=35)"
   ]
  },
  {
   "cell_type": "code",
   "execution_count": 3,
   "metadata": {},
   "outputs": [
    {
     "name": "stdout",
     "output_type": "stream",
     "text": [
      "Episode 100\tAverage Score: 28.61\tScore: 36.77\n",
      "Episode 104\tAverage Score: 30.13\tScore: 37.64\n",
      "Environment solved in 104 episodes!\n",
      "\n",
      "Episode 200\tAverage Score: 37.13\tScore: 37.48\n",
      "Episode 300\tAverage Score: 37.88\tScore: 38.68\n",
      "Episode 400\tAverage Score: 38.15\tScore: 36.09\n"
     ]
    }
   ],
   "source": [
    "# Train the agent for 500 episodes\n",
    "scores = train_ddpg(agent, env, n_episodes=400, max_t=2000, save=True)"
   ]
  },
  {
   "cell_type": "code",
   "execution_count": 4,
   "metadata": {},
   "outputs": [],
   "source": [
    "env.close()"
   ]
  },
  {
   "cell_type": "markdown",
   "metadata": {},
   "source": [
    "### 3.1 Plot of training rewards\n",
    "We see that agent converged rather fast and that it was quite stable."
   ]
  },
  {
   "cell_type": "code",
   "execution_count": 5,
   "metadata": {},
   "outputs": [
    {
     "data": {
      "image/png": "[encoded data removed]",
      "text/plain": [
       "<matplotlib.figure.Figure at 0x1b9a26ba208>"
      ]
     },
     "metadata": {
      "needs_background": "light"
     },
     "output_type": "display_data"
    }
   ],
   "source": [
    "plt.plot(scores)\n",
    "plt.hlines(y=30, xmin=0, xmax=400, linewidth=2, color='r')\n",
    "plt.xlabel(\"Episode\")\n",
    "plt.ylabel(\"Reward\")\n",
    "plt.title(\"Reward plot\")\n",
    "plt.show()"
   ]
  },
  {
   "cell_type": "markdown",
   "metadata": {},
   "source": [
    "## 4. Watch the agent play (with pretrained model)"
   ]
  },
  {
   "cell_type": "code",
   "execution_count": 4,
   "metadata": {},
   "outputs": [],
   "source": [
    "# imports\n",
    "from unityagents import UnityEnvironment\n",
    "import numpy as np\n",
    "import torch\n",
    "import matplotlib.pyplot as plt\n",
    "%matplotlib inline\n",
    "\n",
    "from ddpg.agent import Agent\n",
    "\n",
    "# environment metadata\n",
    "state_size = 33\n",
    "action_size = 4"
   ]
  },
  {
   "cell_type": "code",
   "execution_count": 8,
   "metadata": {},
   "outputs": [],
   "source": [
    "# create the agent\n",
    "agent = Agent(state_size, action_size, random_seed=1234)\n",
    "\n",
    "# load saved model weights (load last checkpoint as it had best average results)\n",
    "agent.actor_local.load_state_dict(torch.load(\"models/checkpoint_400_actor.pth\"))\n",
    "agent.critic_local.load_state_dict(torch.load(\"models/checkpoint_400_critic.pth\"))"
   ]
  },
  {
   "cell_type": "code",
   "execution_count": 5,
   "metadata": {},
   "outputs": [],
   "source": [
    "env.close()"
   ]
  },
  {
   "cell_type": "code",
   "execution_count": 8,
   "metadata": {},
   "outputs": [
    {
     "name": "stderr",
     "output_type": "stream",
     "text": [
      "INFO:unityagents:\n",
      "'Academy' started successfully!\n",
      "Unity Academy name: Academy\n",
      "        Number of Brains: 1\n",
      "        Number of External Brains : 1\n",
      "        Lesson number : 0\n",
      "        Reset Parameters :\n",
      "\t\tgoal_speed -> 1.0\n",
      "\t\tgoal_size -> 5.0\n",
      "Unity brain name: ReacherBrain\n",
      "        Number of Visual Observations (per agent): 0\n",
      "        Vector Observation space type: continuous\n",
      "        Vector Observation space size (per agent): 33\n",
      "        Number of stacked Vector Observation: 1\n",
      "        Vector Action space type: continuous\n",
      "        Vector Action space size (per agent): 4\n",
      "        Vector Action descriptions: , , , \n"
     ]
    },
    {
     "name": "stdout",
     "output_type": "stream",
     "text": [
      "Score: 38.13349914764986\n"
     ]
    }
   ],
   "source": [
    "# Watch agent play\n",
    "\n",
    "# get handle to the environment (with graphics)\n",
    "env = UnityEnvironment(file_name=\"Reacher_Windows_x86_64/Reacher.exe\")\n",
    "\n",
    "agent_scores = np.zeros(20) # initialize the scores\n",
    "agent.reset()\n",
    "\n",
    "# default brain\n",
    "brain_name = env.brain_names[0]\n",
    "env_info = env.reset(train_mode=False)[brain_name]\n",
    "states = env_info.vector_observations\n",
    "while True:\n",
    "        actions = agent.act(states)\n",
    "        env_info = env.step(actions)[brain_name]\n",
    "        next_states = env_info.vector_observations\n",
    "        rewards = env_info.rewards\n",
    "        dones = env_info.local_done\n",
    "        states = next_states\n",
    "        agent_scores += rewards\n",
    "        if np.any(dones):\n",
    "            break\n",
    "\n",
    "    \n",
    "print(\"Score: {}\".format(np.mean(agent_scores)))\n",
    "# close the env\n",
    "env.close()"
   ]
  },
  {
   "cell_type": "markdown",
   "metadata": {},
   "source": [
    "## 5. Future work\n",
    "I think the implemented DDPG algorithm actually worked quite well after (big) initial struggles with the hyperparameter settings and tuning. Hence I don't have many ideas on how to improve this particular algorithm in this case. One could be implementing prioritized experience replay.\n",
    "\n",
    "However, more interesting would be to try to solve the environment using some other learning algorithm such as [PPO](https://arxiv.org/pdf/1707.06347.pdf), [A3C](https://arxiv.org/pdf/1602.01783.pdf) or [D4PG](https://openreview.net/pdf?id=SyZipzbCb)."
   ]
  },
  {
   "cell_type": "code",
   "execution_count": null,
   "metadata": {},
   "outputs": [],
   "source": []
  }
 ],
 "metadata": {
  "kernelspec": {
   "display_name": "Python 3",
   "language": "python",
   "name": "python3"
  },
  "language_info": {
   "codemirror_mode": {
    "name": "ipython",
    "version": 3
   },
   "file_extension": ".py",
   "mimetype": "text/x-python",
   "name": "python",
   "nbconvert_exporter": "python",
   "pygments_lexer": "ipython3",
   "version": "3.6.4"
  }
 },
 "nbformat": 4,
 "nbformat_minor": 2
}
